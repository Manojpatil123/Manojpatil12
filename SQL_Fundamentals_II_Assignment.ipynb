{
  "nbformat": 4,
  "nbformat_minor": 0,
  "metadata": {
    "colab": {
      "name": "SQL Fundamentals  II - Assignment.ipynb",
      "provenance": [],
      "collapsed_sections": [],
      "include_colab_link": true
    },
    "kernelspec": {
      "name": "python3",
      "display_name": "Python 3"
    }
  },
  "cells": [
    {
      "cell_type": "markdown",
      "metadata": {
        "id": "view-in-github",
        "colab_type": "text"
      },
      "source": [
        "<a href=\"https://colab.research.google.com/github/Manojpatil123/Manojpatil12/blob/main/SQL_Fundamentals_II_Assignment.ipynb\" target=\"_parent\"><img src=\"https://colab.research.google.com/assets/colab-badge.svg\" alt=\"Open In Colab\"/></a>"
      ]
    },
    {
      "cell_type": "markdown",
      "metadata": {
        "id": "LSx52toYvkE0"
      },
      "source": [
        "# <b> Question 1 : Return the customer IDs of customers who have spent at least $110 with the staff member who has an ID of 2.\n"
      ]
    },
    {
      "cell_type": "markdown",
      "source": [
        "Select customer_id, sum(amount) from payment\n",
        "\n",
        "where staff_id=2\n",
        "\n",
        "group by customer_id, staff_id \n",
        "\n",
        "having sum(amount)>110"
      ],
      "metadata": {
        "id": "Dc-ipH9FfT_N"
      }
    },
    {
      "cell_type": "markdown",
      "metadata": {
        "id": "grhpLeadvkHP"
      },
      "source": [
        "# <b> Question 2 :  How many films begin with the letter J?\n"
      ]
    },
    {
      "cell_type": "markdown",
      "source": [
        "\n",
        "select count(title) from film\n",
        "\n",
        "where title like 'J%'"
      ],
      "metadata": {
        "id": "_GJdw-d2fqIF"
      }
    },
    {
      "cell_type": "markdown",
      "metadata": {
        "id": "7ADgnW_VvkJg"
      },
      "source": [
        "# <b> Question 3 : What customer has the highest customer ID number whose name starts with an 'E' and has an address ID lower than 500?"
      ]
    },
    {
      "cell_type": "markdown",
      "source": [
        "select customer_id, first_name,address_id from customer\n",
        "\n",
        "where first_name like 'E%'\n",
        "\n",
        "group by customer_id\n",
        "\n",
        "having address_id<500\n",
        "\n",
        "order by customer_id"
      ],
      "metadata": {
        "id": "v5We9SKcgfa9"
      }
    }
  ]
}